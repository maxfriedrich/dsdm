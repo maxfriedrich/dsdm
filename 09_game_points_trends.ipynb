{
 "cells": [
  {
   "cell_type": "code",
   "execution_count": 1,
   "metadata": {},
   "outputs": [],
   "source": [
    "import collections, json, re, os, sys\n",
    "from pathlib import Path\n",
    "\n",
    "import pandas as pd\n",
    "import numpy as np\n",
    "import matplotlib.pyplot as plt\n",
    "import seaborn as sns\n",
    "from tqdm.auto import tqdm"
   ]
  },
  {
   "cell_type": "code",
   "execution_count": 2,
   "metadata": {},
   "outputs": [
    {
     "data": {
      "application/vnd.jupyter.widget-view+json": {
       "model_id": "7b2738cc18234575b1f95bcb3af3918e",
       "version_major": 2,
       "version_minor": 0
      },
      "text/plain": [
       "HBox(children=(FloatProgress(value=1.0, bar_style='info', max=1.0), HTML(value='')))"
      ]
     },
     "metadata": {},
     "output_type": "display_data"
    },
    {
     "name": "stdout",
     "output_type": "stream",
     "text": [
      "\n",
      "Found 3021 game state info logs\n"
     ]
    }
   ],
   "source": [
    "def strip_config(d):\n",
    "    return {k: v for k, v in d.items() if k != 'config'}\n",
    "\n",
    "game_series_states = []\n",
    "\n",
    "line_re = '.* INFO  service.GamesService  (\\{.*\\})'\n",
    "with open(Path.cwd() / 'data' / 'application.log') as f:\n",
    "    for line in tqdm(f):\n",
    "        game_series_state = re.match(line_re, line)\n",
    "        if game_series_state is not None:\n",
    "            state = json.loads(game_series_state.group(1))\n",
    "            state = strip_config(state)\n",
    "            game_series_states.append(state)\n",
    "print(f'Found {len(game_series_states)} game state info logs')"
   ]
  },
  {
   "cell_type": "code",
   "execution_count": 3,
   "metadata": {},
   "outputs": [
    {
     "name": "stdout",
     "output_type": "stream",
     "text": [
      "Found 103 games\n"
     ]
    },
    {
     "data": {
      "text/plain": [
       "{'version': 2,\n",
       " 'players': [{'id': 'a23cfaf5-1c9d-4390-8101-830f4e196802',\n",
       "   'cards': [{'id': 'H4', 'gameRepresentation': ['♥', '4'], 'endValue': 4},\n",
       "    {'id': 'H9', 'gameRepresentation': ['♥', '9'], 'endValue': 9},\n",
       "    {'id': 'D2', 'gameRepresentation': ['♦', '2'], 'endValue': 2},\n",
       "    {'id': 'D7', 'gameRepresentation': ['♦', '7'], 'endValue': 7},\n",
       "    {'id': 'S7', 'gameRepresentation': ['♠', '7'], 'endValue': 7}],\n",
       "   'drawThrowable': {'id': 'S7',\n",
       "    'gameRepresentation': ['♠', '7'],\n",
       "    'endValue': 7}},\n",
       "  {'id': '7e6f563a-4e98-4d84-8472-60e91b95b468',\n",
       "   'cards': [{'id': 'SA', 'gameRepresentation': ['♠', 'A'], 'endValue': 1},\n",
       "    {'id': 'C4', 'gameRepresentation': ['♣', '4'], 'endValue': 4},\n",
       "    {'id': 'HK', 'gameRepresentation': ['♥', 'K'], 'endValue': 10},\n",
       "    {'id': 'D8', 'gameRepresentation': ['♦', '8'], 'endValue': 8},\n",
       "    {'id': 'S3', 'gameRepresentation': ['♠', '3'], 'endValue': 3}]}],\n",
       " 'currentPlayer': '7e6f563a-4e98-4d84-8472-60e91b95b468',\n",
       " 'nextAction': 'throw',\n",
       " 'lastAction': {'type': 'drawn', 'source': 'deck'},\n",
       " 'pile': {'top': [{'id': 'SJ',\n",
       "    'gameRepresentation': ['♠', 'J'],\n",
       "    'endValue': 10}],\n",
       "  'drawable': [{'card': {'id': 'SK',\n",
       "     'gameRepresentation': ['♠', 'K'],\n",
       "     'endValue': 10},\n",
       "    'drawable': True}],\n",
       "  'bottom': []},\n",
       " 'deck': [{'id': 'H3', 'gameRepresentation': ['♥', '3'], 'endValue': 3},\n",
       "  {'id': 'HQ', 'gameRepresentation': ['♥', 'Q'], 'endValue': 10},\n",
       "  {'id': 'CJ', 'gameRepresentation': ['♣', 'J'], 'endValue': 10},\n",
       "  {'id': 'DK', 'gameRepresentation': ['♦', 'K'], 'endValue': 10},\n",
       "  {'id': 'C8', 'gameRepresentation': ['♣', '8'], 'endValue': 8},\n",
       "  {'id': 'D6', 'gameRepresentation': ['♦', '6'], 'endValue': 6},\n",
       "  {'id': 'S6', 'gameRepresentation': ['♠', '6'], 'endValue': 6},\n",
       "  {'id': 'H8', 'gameRepresentation': ['♥', '8'], 'endValue': 8},\n",
       "  {'id': 'C6', 'gameRepresentation': ['♣', '6'], 'endValue': 6},\n",
       "  {'id': 'C9', 'gameRepresentation': ['♣', '9'], 'endValue': 9},\n",
       "  {'id': 'J2', 'gameRepresentation': ['☆', 'J'], 'endValue': 0},\n",
       "  {'id': 'D5', 'gameRepresentation': ['♦', '5'], 'endValue': 5},\n",
       "  {'id': 'J1', 'gameRepresentation': ['☆', 'J'], 'endValue': 0},\n",
       "  {'id': 'D9', 'gameRepresentation': ['♦', '9'], 'endValue': 9},\n",
       "  {'id': 'H6', 'gameRepresentation': ['♥', '6'], 'endValue': 6},\n",
       "  {'id': 'CA', 'gameRepresentation': ['♣', 'A'], 'endValue': 1},\n",
       "  {'id': 'D10', 'gameRepresentation': ['♦', '10'], 'endValue': 10},\n",
       "  {'id': 'S10', 'gameRepresentation': ['♠', '10'], 'endValue': 10},\n",
       "  {'id': 'H10', 'gameRepresentation': ['♥', '10'], 'endValue': 10},\n",
       "  {'id': 'C3', 'gameRepresentation': ['♣', '3'], 'endValue': 3},\n",
       "  {'id': 'S2', 'gameRepresentation': ['♠', '2'], 'endValue': 2},\n",
       "  {'id': 'S8', 'gameRepresentation': ['♠', '8'], 'endValue': 8},\n",
       "  {'id': 'C5', 'gameRepresentation': ['♣', '5'], 'endValue': 5},\n",
       "  {'id': 'H2', 'gameRepresentation': ['♥', '2'], 'endValue': 2},\n",
       "  {'id': 'SQ', 'gameRepresentation': ['♠', 'Q'], 'endValue': 10},\n",
       "  {'id': 'C10', 'gameRepresentation': ['♣', '10'], 'endValue': 10},\n",
       "  {'id': 'HA', 'gameRepresentation': ['♥', 'A'], 'endValue': 1},\n",
       "  {'id': 'DQ', 'gameRepresentation': ['♦', 'Q'], 'endValue': 10},\n",
       "  {'id': 'D3', 'gameRepresentation': ['♦', '3'], 'endValue': 3},\n",
       "  {'id': 'S5', 'gameRepresentation': ['♠', '5'], 'endValue': 5},\n",
       "  {'id': 'J3', 'gameRepresentation': ['☆', 'J'], 'endValue': 0},\n",
       "  {'id': 'HJ', 'gameRepresentation': ['♥', 'J'], 'endValue': 10},\n",
       "  {'id': 'H5', 'gameRepresentation': ['♥', '5'], 'endValue': 5},\n",
       "  {'id': 'DA', 'gameRepresentation': ['♦', 'A'], 'endValue': 1},\n",
       "  {'id': 'H7', 'gameRepresentation': ['♥', '7'], 'endValue': 7},\n",
       "  {'id': 'S9', 'gameRepresentation': ['♠', '9'], 'endValue': 9},\n",
       "  {'id': 'S4', 'gameRepresentation': ['♠', '4'], 'endValue': 4},\n",
       "  {'id': 'D4', 'gameRepresentation': ['♦', '4'], 'endValue': 4},\n",
       "  {'id': 'CQ', 'gameRepresentation': ['♣', 'Q'], 'endValue': 10},\n",
       "  {'id': 'C7', 'gameRepresentation': ['♣', '7'], 'endValue': 7},\n",
       "  {'id': 'DJ', 'gameRepresentation': ['♦', 'J'], 'endValue': 10},\n",
       "  {'id': 'CK', 'gameRepresentation': ['♣', 'K'], 'endValue': 10},\n",
       "  {'id': 'C2', 'gameRepresentation': ['♣', '2'], 'endValue': 2}],\n",
       " 'turn': 0}"
      ]
     },
     "execution_count": 3,
     "metadata": {},
     "output_type": "execute_result"
    }
   ],
   "source": [
    "by_game = collections.defaultdict(list)\n",
    "game_counter = collections.defaultdict(int)\n",
    "turn_counter = collections.defaultdict(int)\n",
    "\n",
    "# Stupid workarounds because I wrote incomplete logs…\n",
    "for state in game_series_states:\n",
    "    players = ''.join([player['id'] for player in state['players']])\n",
    "    if state['version'] == 0:\n",
    "        game_counter[players] += 1\n",
    "    \n",
    "    game_id = (players, game_counter[players])\n",
    "    if state['nextAction'] == 'throw':\n",
    "        state['turn'] = turn_counter[game_id] // len(state['players'])\n",
    "        turn_counter[game_id] += 1\n",
    "        by_game[game_id].append(state)\n",
    "print(f'Found {len(by_game)} games')\n",
    "\n",
    "next(iter(by_game.values()))[1]"
   ]
  },
  {
   "cell_type": "code",
   "execution_count": 4,
   "metadata": {},
   "outputs": [],
   "source": [
    "class Index:\n",
    "    def __init__(self):\n",
    "        self.ind2item = {}\n",
    "        self.item2ind = {}\n",
    "    \n",
    "    def store(self, item):\n",
    "        ind = len(self.ind2item)\n",
    "        self.ind2item[ind] = item\n",
    "        self.item2ind[item] = ind\n",
    "    \n",
    "    def __contains__(self, item):\n",
    "        return item in self.item2ind\n",
    "       \n",
    "    def __getitem__(self, key):\n",
    "        if not key in self.item2ind:\n",
    "            self.store(key)\n",
    "        return self.item2ind[key]\n",
    "    \n",
    "test_index = Index()\n",
    "assert(not 'a' in test_index)\n",
    "assert(test_index['a'] == 0)\n",
    "assert('a' in test_index)"
   ]
  },
  {
   "cell_type": "code",
   "execution_count": 5,
   "metadata": {},
   "outputs": [
    {
     "name": "stdout",
     "output_type": "stream",
     "text": [
      "Found 3640 game/player/version data points\n"
     ]
    },
    {
     "data": {
      "text/html": [
       "<div>\n",
       "<style scoped>\n",
       "    .dataframe tbody tr th:only-of-type {\n",
       "        vertical-align: middle;\n",
       "    }\n",
       "\n",
       "    .dataframe tbody tr th {\n",
       "        vertical-align: top;\n",
       "    }\n",
       "\n",
       "    .dataframe thead th {\n",
       "        text-align: right;\n",
       "    }\n",
       "</style>\n",
       "<table border=\"1\" class=\"dataframe\">\n",
       "  <thead>\n",
       "    <tr style=\"text-align: right;\">\n",
       "      <th></th>\n",
       "      <th>game</th>\n",
       "      <th>player</th>\n",
       "      <th>turn</th>\n",
       "      <th>num_cards</th>\n",
       "      <th>points_hand</th>\n",
       "    </tr>\n",
       "  </thead>\n",
       "  <tbody>\n",
       "    <tr>\n",
       "      <th>0</th>\n",
       "      <td>0</td>\n",
       "      <td>0</td>\n",
       "      <td>0</td>\n",
       "      <td>5</td>\n",
       "      <td>32</td>\n",
       "    </tr>\n",
       "    <tr>\n",
       "      <th>1</th>\n",
       "      <td>0</td>\n",
       "      <td>1</td>\n",
       "      <td>0</td>\n",
       "      <td>5</td>\n",
       "      <td>26</td>\n",
       "    </tr>\n",
       "    <tr>\n",
       "      <th>2</th>\n",
       "      <td>0</td>\n",
       "      <td>0</td>\n",
       "      <td>0</td>\n",
       "      <td>5</td>\n",
       "      <td>29</td>\n",
       "    </tr>\n",
       "    <tr>\n",
       "      <th>3</th>\n",
       "      <td>0</td>\n",
       "      <td>1</td>\n",
       "      <td>0</td>\n",
       "      <td>5</td>\n",
       "      <td>26</td>\n",
       "    </tr>\n",
       "    <tr>\n",
       "      <th>4</th>\n",
       "      <td>0</td>\n",
       "      <td>0</td>\n",
       "      <td>1</td>\n",
       "      <td>5</td>\n",
       "      <td>29</td>\n",
       "    </tr>\n",
       "  </tbody>\n",
       "</table>\n",
       "</div>"
      ],
      "text/plain": [
       "   game  player  turn  num_cards  points_hand\n",
       "0     0       0     0          5           32\n",
       "1     0       1     0          5           26\n",
       "2     0       0     0          5           29\n",
       "3     0       1     0          5           26\n",
       "4     0       0     1          5           29"
      ]
     },
     "execution_count": 5,
     "metadata": {},
     "output_type": "execute_result"
    }
   ],
   "source": [
    "games_index = Index()\n",
    "players_index = Index()\n",
    "\n",
    "by_player = []\n",
    "for game, states in by_game.items():\n",
    "    for state in states:\n",
    "        for player in state['players']:\n",
    "            cards = player['cards']\n",
    "            game_id = games_index[game]\n",
    "            player_id = players_index[player['id']]\n",
    "            by_player.append({\n",
    "                'game': game_id, \n",
    "                'player': player_id,\n",
    "                'turn': state['turn'],\n",
    "                'num_cards': len(cards),\n",
    "                'points_hand': sum([card['endValue'] for card in cards])\n",
    "            })\n",
    "print(f'Found {len(by_player)} game/player/version data points')\n",
    "by_player = pd.DataFrame(by_player)\n",
    "by_player.head()"
   ]
  },
  {
   "cell_type": "code",
   "execution_count": 6,
   "metadata": {},
   "outputs": [
    {
     "data": {
      "image/png": "[encoded data removed]",
      "text/plain": [
       "<Figure size 720x576 with 2 Axes>"
      ]
     },
     "execution_count": 6,
     "metadata": {},
     "output_type": "execute_result"
    }
   ],
   "source": [
    "fig = plt.Figure(figsize=(10, 8))\n",
    "ax = fig.gca()\n",
    "heatmap_data = by_player.pivot_table(index='points_hand', columns='turn', values='num_cards', aggfunc=len).fillna(0).iloc[::-1]\n",
    "sns.heatmap(heatmap_data, ax=ax)\n",
    "fig"
   ]
  },
  {
   "cell_type": "code",
   "execution_count": 7,
   "metadata": {},
   "outputs": [
    {
     "data": {
      "image/png": "[encoded data removed]",
      "text/plain": [
       "<Figure size 360x360 with 1 Axes>"
      ]
     },
     "metadata": {
      "needs_background": "light"
     },
     "output_type": "display_data"
    }
   ],
   "source": [
    "ax = sns.lmplot(x='turn', y='points_hand', data=by_player)\n",
    "_ = ax.set(ylim=(0, 30))"
   ]
  },
  {
   "cell_type": "code",
   "execution_count": 8,
   "metadata": {},
   "outputs": [
    {
     "data": {
      "text/plain": [
       "<seaborn.axisgrid.FacetGrid at 0x1a26acc410>"
      ]
     },
     "execution_count": 8,
     "metadata": {},
     "output_type": "execute_result"
    },
    {
     "data": {
      "image/png": "[encoded data removed]",
      "text/plain": [
       "<Figure size 1080x216 with 5 Axes>"
      ]
     },
     "metadata": {
      "needs_background": "light"
     },
     "output_type": "display_data"
    }
   ],
   "source": [
    "g = sns.FacetGrid(by_player, col='num_cards')\n",
    "g.map(sns.distplot, 'points_hand', bins=np.arange(0, 50, 2))"
   ]
  },
  {
   "cell_type": "code",
   "execution_count": 9,
   "metadata": {},
   "outputs": [],
   "source": [
    "from sklearn.pipeline import Pipeline\n",
    "from sklearn.preprocessing import StandardScaler\n",
    "from sklearn.linear_model import LinearRegression\n",
    "from sklearn.metrics import mean_squared_error"
   ]
  },
  {
   "cell_type": "code",
   "execution_count": 10,
   "metadata": {},
   "outputs": [
    {
     "name": "stdout",
     "output_type": "stream",
     "text": [
      "Sampled 52 games for training, 51 games for testing\n"
     ]
    }
   ],
   "source": [
    "games = pd.Series(by_player['game'].unique())\n",
    "train_games = set(games.sample(round(len(games) * 0.5), random_state=1234))\n",
    "test_games = set(games) - train_games\n",
    "print(f'Sampled {len(train_games)} games for training, {len(test_games)} games for testing')"
   ]
  },
  {
   "cell_type": "code",
   "execution_count": 11,
   "metadata": {},
   "outputs": [
    {
     "name": "stdout",
     "output_type": "stream",
     "text": [
      "Train size: 1783, test size: 1857\n",
      "RMSE linear regression: 6.3860\n",
      "Always predicting mean: 9.5063\n"
     ]
    }
   ],
   "source": [
    "features = by_player.copy()\n",
    "features_train = features[features['game'].isin(train_games)].reset_index(drop=True)\n",
    "features_test = features[features['game'].isin(test_games)].reset_index(drop=True)\n",
    "print(f'Train size: {len(features_train)}, test size: {len(features_test)}')\n",
    "\n",
    "feature_names = ['turn', 'num_cards']\n",
    "target_name = 'points_hand'\n",
    "\n",
    "X_train = features_train[feature_names]\n",
    "X_test  = features_test[feature_names]\n",
    "y_train = features_train[target_name].values.reshape(-1, 1) # for scaler\n",
    "y_test  = features_test[target_name].values\n",
    "\n",
    "pipeline = Pipeline([('scaler', StandardScaler()),\n",
    "                     ('predictor', LinearRegression())])\n",
    "\n",
    "y_scaler = StandardScaler()\n",
    "y_train_scaled = y_scaler.fit_transform(y_train).reshape(-1)\n",
    "\n",
    "pipeline.fit(X_train, y_train_scaled)\n",
    "\n",
    "pred_scaled = pipeline.predict(X_test)\n",
    "pred = y_scaler.inverse_transform(pred_scaled)\n",
    "\n",
    "print(f'RMSE linear regression: {mean_squared_error(y_test, pred, squared=False):.4f}')\n",
    "print(f'Always predicting mean: {mean_squared_error(y_test, np.zeros(len(y_test)) + np.mean(y_test), squared=False):.4f}')"
   ]
  },
  {
   "cell_type": "code",
   "execution_count": 12,
   "metadata": {},
   "outputs": [
    {
     "data": {
      "text/html": [
       "<div>\n",
       "<style scoped>\n",
       "    .dataframe tbody tr th:only-of-type {\n",
       "        vertical-align: middle;\n",
       "    }\n",
       "\n",
       "    .dataframe tbody tr th {\n",
       "        vertical-align: top;\n",
       "    }\n",
       "\n",
       "    .dataframe thead th {\n",
       "        text-align: right;\n",
       "    }\n",
       "</style>\n",
       "<table border=\"1\" class=\"dataframe\">\n",
       "  <thead>\n",
       "    <tr style=\"text-align: right;\">\n",
       "      <th></th>\n",
       "      <th>feature</th>\n",
       "      <th>mean</th>\n",
       "      <th>var</th>\n",
       "      <th>weight</th>\n",
       "    </tr>\n",
       "  </thead>\n",
       "  <tbody>\n",
       "    <tr>\n",
       "      <th>0</th>\n",
       "      <td>turn</td>\n",
       "      <td>3.559731</td>\n",
       "      <td>10.065838</td>\n",
       "      <td>-0.346366</td>\n",
       "    </tr>\n",
       "    <tr>\n",
       "      <th>1</th>\n",
       "      <td>num_cards</td>\n",
       "      <td>3.765564</td>\n",
       "      <td>1.423447</td>\n",
       "      <td>0.454491</td>\n",
       "    </tr>\n",
       "  </tbody>\n",
       "</table>\n",
       "</div>"
      ],
      "text/plain": [
       "     feature      mean        var    weight\n",
       "0       turn  3.559731  10.065838 -0.346366\n",
       "1  num_cards  3.765564   1.423447  0.454491"
      ]
     },
     "execution_count": 12,
     "metadata": {},
     "output_type": "execute_result"
    }
   ],
   "source": [
    "pd.DataFrame([\n",
    "    {'feature': feat, 'mean': mean, 'var': var, 'weight': weight}\n",
    "    for feat, mean, var, weight \n",
    "    in zip(feature_names, pipeline['scaler'].mean_, pipeline['scaler'].var_, pipeline['predictor'].coef_)\n",
    "])"
   ]
  },
  {
   "cell_type": "code",
   "execution_count": 13,
   "metadata": {},
   "outputs": [
    {
     "data": {
      "image/png": "[encoded data removed]",
      "text/plain": [
       "<Figure size 720x288 with 2 Axes>"
      ]
     },
     "metadata": {
      "needs_background": "light"
     },
     "output_type": "display_data"
    }
   ],
   "source": [
    "fig = plt.figure(figsize=(10,4))\n",
    "ax1, ax2 = fig.subplots(ncols=2, sharex=True, sharey=True)\n",
    "_ = sns.distplot(y_test, ax=ax1)\n",
    "_ = ax1.set_title('Targets')\n",
    "_ = sns.distplot(pred, ax=ax2)\n",
    "_ = ax2.set_title('Predictions')"
   ]
  },
  {
   "cell_type": "code",
   "execution_count": 14,
   "metadata": {},
   "outputs": [
    {
     "data": {
      "image/png": "[encoded data removed]",
      "text/plain": [
       "<Figure size 432x288 with 1 Axes>"
      ]
     },
     "metadata": {
      "needs_background": "light"
     },
     "output_type": "display_data"
    }
   ],
   "source": [
    "error = y_test - pred\n",
    "ax = sns.distplot(error)\n",
    "_ = ax.set_title('Absolute error')"
   ]
  },
  {
   "cell_type": "code",
   "execution_count": 15,
   "metadata": {},
   "outputs": [
    {
     "data": {
      "text/html": [
       "<div>\n",
       "<style scoped>\n",
       "    .dataframe tbody tr th:only-of-type {\n",
       "        vertical-align: middle;\n",
       "    }\n",
       "\n",
       "    .dataframe tbody tr th {\n",
       "        vertical-align: top;\n",
       "    }\n",
       "\n",
       "    .dataframe thead th {\n",
       "        text-align: right;\n",
       "    }\n",
       "</style>\n",
       "<table border=\"1\" class=\"dataframe\">\n",
       "  <thead>\n",
       "    <tr style=\"text-align: right;\">\n",
       "      <th></th>\n",
       "      <th>game</th>\n",
       "      <th>player</th>\n",
       "      <th>turn</th>\n",
       "      <th>num_cards</th>\n",
       "      <th>points_hand</th>\n",
       "      <th>prediction</th>\n",
       "      <th>error</th>\n",
       "    </tr>\n",
       "  </thead>\n",
       "  <tbody>\n",
       "    <tr>\n",
       "      <th>585</th>\n",
       "      <td>31</td>\n",
       "      <td>6</td>\n",
       "      <td>0</td>\n",
       "      <td>5</td>\n",
       "      <td>9</td>\n",
       "      <td>25.535891</td>\n",
       "      <td>-16.535891</td>\n",
       "    </tr>\n",
       "    <tr>\n",
       "      <th>588</th>\n",
       "      <td>31</td>\n",
       "      <td>6</td>\n",
       "      <td>0</td>\n",
       "      <td>5</td>\n",
       "      <td>9</td>\n",
       "      <td>25.535891</td>\n",
       "      <td>-16.535891</td>\n",
       "    </tr>\n",
       "    <tr>\n",
       "      <th>1170</th>\n",
       "      <td>50</td>\n",
       "      <td>6</td>\n",
       "      <td>1</td>\n",
       "      <td>5</td>\n",
       "      <td>9</td>\n",
       "      <td>24.457725</td>\n",
       "      <td>-15.457725</td>\n",
       "    </tr>\n",
       "    <tr>\n",
       "      <th>591</th>\n",
       "      <td>31</td>\n",
       "      <td>6</td>\n",
       "      <td>1</td>\n",
       "      <td>5</td>\n",
       "      <td>9</td>\n",
       "      <td>24.457725</td>\n",
       "      <td>-15.457725</td>\n",
       "    </tr>\n",
       "    <tr>\n",
       "      <th>143</th>\n",
       "      <td>5</td>\n",
       "      <td>3</td>\n",
       "      <td>2</td>\n",
       "      <td>5</td>\n",
       "      <td>8</td>\n",
       "      <td>23.379559</td>\n",
       "      <td>-15.379559</td>\n",
       "    </tr>\n",
       "    <tr>\n",
       "      <th>455</th>\n",
       "      <td>26</td>\n",
       "      <td>3</td>\n",
       "      <td>0</td>\n",
       "      <td>5</td>\n",
       "      <td>44</td>\n",
       "      <td>25.535891</td>\n",
       "      <td>18.464109</td>\n",
       "    </tr>\n",
       "    <tr>\n",
       "      <th>453</th>\n",
       "      <td>26</td>\n",
       "      <td>3</td>\n",
       "      <td>0</td>\n",
       "      <td>5</td>\n",
       "      <td>45</td>\n",
       "      <td>25.535891</td>\n",
       "      <td>19.464109</td>\n",
       "    </tr>\n",
       "    <tr>\n",
       "      <th>457</th>\n",
       "      <td>26</td>\n",
       "      <td>3</td>\n",
       "      <td>1</td>\n",
       "      <td>5</td>\n",
       "      <td>44</td>\n",
       "      <td>24.457725</td>\n",
       "      <td>19.542275</td>\n",
       "    </tr>\n",
       "    <tr>\n",
       "      <th>1801</th>\n",
       "      <td>100</td>\n",
       "      <td>15</td>\n",
       "      <td>0</td>\n",
       "      <td>5</td>\n",
       "      <td>47</td>\n",
       "      <td>25.535891</td>\n",
       "      <td>21.464109</td>\n",
       "    </tr>\n",
       "    <tr>\n",
       "      <th>1799</th>\n",
       "      <td>100</td>\n",
       "      <td>15</td>\n",
       "      <td>0</td>\n",
       "      <td>5</td>\n",
       "      <td>47</td>\n",
       "      <td>25.535891</td>\n",
       "      <td>21.464109</td>\n",
       "    </tr>\n",
       "  </tbody>\n",
       "</table>\n",
       "</div>"
      ],
      "text/plain": [
       "      game  player  turn  num_cards  points_hand  prediction      error\n",
       "585     31       6     0          5            9   25.535891 -16.535891\n",
       "588     31       6     0          5            9   25.535891 -16.535891\n",
       "1170    50       6     1          5            9   24.457725 -15.457725\n",
       "591     31       6     1          5            9   24.457725 -15.457725\n",
       "143      5       3     2          5            8   23.379559 -15.379559\n",
       "455     26       3     0          5           44   25.535891  18.464109\n",
       "453     26       3     0          5           45   25.535891  19.464109\n",
       "457     26       3     1          5           44   24.457725  19.542275\n",
       "1801   100      15     0          5           47   25.535891  21.464109\n",
       "1799   100      15     0          5           47   25.535891  21.464109"
      ]
     },
     "execution_count": 15,
     "metadata": {},
     "output_type": "execute_result"
    }
   ],
   "source": [
    "n_samples = 5\n",
    "sorted_by_error_size = np.argsort(error)\n",
    "\n",
    "ind = np.hstack([sorted_by_error_size[:n_samples], sorted_by_error_size[-n_samples:]])\n",
    "big_error_samples = features_test.loc[ind]\n",
    "big_error_samples['prediction'] = pred[ind]\n",
    "big_error_samples['error'] = error[ind]\n",
    "big_error_samples"
   ]
  },
  {
   "cell_type": "code",
   "execution_count": null,
   "metadata": {},
   "outputs": [],
   "source": []
  }
 ],
 "metadata": {
  "kernelspec": {
   "display_name": "Python 3",
   "language": "python",
   "name": "python3"
  },
  "language_info": {
   "codemirror_mode": {
    "name": "ipython",
    "version": 3
   },
   "file_extension": ".py",
   "mimetype": "text/x-python",
   "name": "python",
   "nbconvert_exporter": "python",
   "pygments_lexer": "ipython3",
   "version": "3.7.7"
  }
 },
 "nbformat": 4,
 "nbformat_minor": 4
}
